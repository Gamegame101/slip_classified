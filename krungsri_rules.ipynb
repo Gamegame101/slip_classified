{
 "cells": [
  {
   "cell_type": "code",
   "execution_count": 2,
   "metadata": {},
   "outputs": [],
   "source": [
    "from tqdm import tqdm\n",
    "import easyocr\n",
    "import os\n",
    "import cv2\n",
    "import matplotlib.pyplot as plt"
   ]
  },
  {
   "cell_type": "code",
   "execution_count": 2,
   "metadata": {},
   "outputs": [
    {
     "data": {
      "text/plain": [
       "['krungsri/LINE_ALBUM_slip_230227_302.jpg',\n",
       " 'krungsri/LINE_ALBUM_slip_230227_33.jpg',\n",
       " 'krungsri/LINE_ALBUM_slip_230227_376.jpg',\n",
       " 'krungsri/LINE_ALBUM_slip_230227_38.jpg',\n",
       " 'krungsri/LINE_ALBUM_slip_230227_386.jpg',\n",
       " 'krungsri/LINE_ALBUM_slip_230227_391.jpg',\n",
       " 'krungsri/LINE_ALBUM_slip_230227_420.jpg',\n",
       " 'krungsri/LINE_ALBUM_slip_230227_80.jpg',\n",
       " 'krungsri/LINE_ALBUM_slip_230227_87.jpg']"
      ]
     },
     "execution_count": 2,
     "metadata": {},
     "output_type": "execute_result"
    }
   ],
   "source": [
    "list_path=os.listdir(r\"krungsri\")\n",
    "list_path=[\"krungsri/\"+i for i in list_path]\n",
    "list_path"
   ]
  },
  {
   "cell_type": "code",
   "execution_count": null,
   "metadata": {},
   "outputs": [],
   "source": [
    "img = cv2.imread(list_path[0], 0)\n",
    "\n",
    "# Apply Otsu's thresholding to the image\n",
    "# ret, img = cv2.threshold(img, 0, 255, cv2.THRESH_BINARY + cv2.THRESH_OTSU)\n",
    "\n",
    "# Display the thresholded image using Matplotlib\n",
    "plt.figure(figsize=(10, 10))\n",
    "plt.imshow(img, cmap='gray')\n",
    "\n",
    "# Show the plot\n",
    "plt.show()"
   ]
  },
  {
   "cell_type": "code",
   "execution_count": 3,
   "metadata": {},
   "outputs": [
    {
     "name": "stderr",
     "output_type": "stream",
     "text": [
      "CUDA not available - defaulting to CPU. Note: This module is much faster with a GPU.\n"
     ]
    },
    {
     "data": {
      "text/plain": [
       "['krungsri',\n",
       " '[ouluaniSv',\n",
       " 'Fenibri',\n",
       " 'HMFG',\n",
       " '19 nW. 2566 13.16.23',\n",
       " 'glouai (nbticiai 9 OuH',\n",
       " 'PIYAWUN SOYCH',\n",
       " 'XXX-1-41580-X',\n",
       " 'u.a: sanSau [@Squns',\n",
       " '',\n",
       " 'XXX-3-60946-X',\n",
       " 'jujunu',\n",
       " '760.00 THB',\n",
       " 'AJSSSUIC:U',\n",
       " '0.00 THB',\n",
       " 'Kunjiaujwov',\n",
       " 'BAYM1832347589',\n",
       " '',\n",
       " '',\n",
       " 'dilnucisJvaju',\n",
       " '',\n",
       " '',\n",
       " '',\n",
       " '',\n",
       " '',\n",
       " '',\n",
       " '',\n",
       " '',\n",
       " '',\n",
       " '',\n",
       " '',\n",
       " '',\n",
       " '',\n",
       " '',\n",
       " '',\n",
       " '',\n",
       " '',\n",
       " '',\n",
       " '',\n",
       " '']"
      ]
     },
     "execution_count": 3,
     "metadata": {},
     "output_type": "execute_result"
    }
   ],
   "source": [
    "img = cv2.imread(list_path[0])\n",
    "\n",
    "# Convert the image to grayscale\n",
    "gray = cv2.cvtColor(img, cv2.COLOR_BGR2GRAY)\n",
    "\n",
    "# Initialize the OCR reader\n",
    "reader = easyocr.Reader(['en'])\n",
    "\n",
    "# Perform OCR on the image\n",
    "ls = reader.readtext(gray, detail=0, paragraph=False)\n",
    "ls"
   ]
  },
  {
   "cell_type": "code",
   "execution_count": 5,
   "metadata": {},
   "outputs": [
    {
     "name": "stderr",
     "output_type": "stream",
     "text": [
      "  0%|          | 0/7 [00:00<?, ?it/s]CUDA not available - defaulting to CPU. Note: This module is much faster with a GPU.\n",
      " 14%|█▍        | 1/7 [00:12<01:13, 12.19s/it]CUDA not available - defaulting to CPU. Note: This module is much faster with a GPU.\n",
      " 29%|██▊       | 2/7 [00:21<00:52, 10.55s/it]CUDA not available - defaulting to CPU. Note: This module is much faster with a GPU.\n",
      " 43%|████▎     | 3/7 [00:30<00:38,  9.68s/it]CUDA not available - defaulting to CPU. Note: This module is much faster with a GPU.\n",
      " 57%|█████▋    | 4/7 [00:39<00:28,  9.43s/it]CUDA not available - defaulting to CPU. Note: This module is much faster with a GPU.\n",
      " 71%|███████▏  | 5/7 [00:48<00:18,  9.25s/it]CUDA not available - defaulting to CPU. Note: This module is much faster with a GPU.\n",
      " 86%|████████▌ | 6/7 [00:57<00:09,  9.10s/it]CUDA not available - defaulting to CPU. Note: This module is much faster with a GPU.\n",
      "100%|██████████| 7/7 [01:05<00:00,  9.42s/it]\n"
     ]
    }
   ],
   "source": [
    "#Test the bank slip logical\n",
    "list_path=os.listdir(r\"krungsri\")\n",
    "list_path=[\"krungsri/\"+i for i in list_path]\n",
    "list_path\n",
    "\n",
    "\n",
    " # Length of the pattern to match\n",
    "check_list = []\n",
    "img_list = []\n",
    "for i in tqdm(range(0,9)):\n",
    "    img = cv2.imread(list_path[i])\n",
    "\n",
    "    # Convert the image to grayscale\n",
    "    gray = cv2.cvtColor(img, cv2.COLOR_BGR2GRAY)\n",
    "\n",
    "    # Initialize the OCR reader\n",
    "    reader = easyocr.Reader(['en'])\n",
    "\n",
    "    ls = reader.readtext(gray, detail=0, paragraph=False)\n",
    "\n",
    "    if 'ungsr' in ls[0] and sum(1 for w in ls if 'baym' in w.lower()) >= 1:\n",
    "        check_list.append(\"1\")\n",
    "\n",
    "    else:\n",
    "        check_list.append(\"0\")\n",
    "    img_list.append(ls)\n",
    "\n"
   ]
  },
  {
   "cell_type": "code",
   "execution_count": 10,
   "metadata": {},
   "outputs": [
    {
     "data": {
      "text/plain": [
       "['1', '1', '1', '1', '1', '1', '1', '1', '1']"
      ]
     },
     "execution_count": 10,
     "metadata": {},
     "output_type": "execute_result"
    }
   ],
   "source": [
    "# img_list[7]\n",
    "check_list\n",
    "# len('012045212258790754')"
   ]
  },
  {
   "cell_type": "code",
   "execution_count": 3,
   "metadata": {},
   "outputs": [
    {
     "name": "stderr",
     "output_type": "stream",
     "text": [
      "CUDA not available - defaulting to CPU. Note: This module is much faster with a GPU.\n",
      "100%|██████████| 7/7 [00:41<00:00,  5.92s/it]\n"
     ]
    },
    {
     "name": "stdout",
     "output_type": "stream",
     "text": [
      "check_list_baac ['0', '0', '0', '0', '0', '0', '0']\n"
     ]
    },
    {
     "name": "stderr",
     "output_type": "stream",
     "text": [
      "100%|██████████| 7/7 [01:03<00:00,  9.05s/it]\n"
     ]
    },
    {
     "name": "stdout",
     "output_type": "stream",
     "text": [
      "check_list_bbk ['0', '0', '0', '0', '0', '0', '0']\n"
     ]
    },
    {
     "name": "stderr",
     "output_type": "stream",
     "text": [
      "100%|██████████| 7/7 [00:54<00:00,  7.73s/it]\n"
     ]
    },
    {
     "name": "stdout",
     "output_type": "stream",
     "text": [
      "check_list_kbank ['0', '0', '0', '0', '0', '0', '0']\n"
     ]
    },
    {
     "name": "stderr",
     "output_type": "stream",
     "text": [
      "100%|██████████| 7/7 [01:11<00:00, 10.22s/it]\n"
     ]
    },
    {
     "name": "stdout",
     "output_type": "stream",
     "text": [
      "check_list_krungsri ['1', '1', '1', '1', '1', '1', '1']\n"
     ]
    },
    {
     "name": "stderr",
     "output_type": "stream",
     "text": [
      "100%|██████████| 7/7 [00:50<00:00,  7.16s/it]\n"
     ]
    },
    {
     "name": "stdout",
     "output_type": "stream",
     "text": [
      "check_list_krungthai ['0', '0', '0', '0', '0', '0', '0']\n"
     ]
    },
    {
     "name": "stderr",
     "output_type": "stream",
     "text": [
      "100%|██████████| 7/7 [01:25<00:00, 12.16s/it]\n"
     ]
    },
    {
     "name": "stdout",
     "output_type": "stream",
     "text": [
      "check_list_memo ['0', '0', '0', '0', '0', '0', '0']\n"
     ]
    },
    {
     "name": "stderr",
     "output_type": "stream",
     "text": [
      "100%|██████████| 7/7 [01:16<00:00, 10.94s/it]\n"
     ]
    },
    {
     "name": "stdout",
     "output_type": "stream",
     "text": [
      "check_list_scb ['0', '0', '0', '0', '0', '0', '0']\n"
     ]
    },
    {
     "name": "stderr",
     "output_type": "stream",
     "text": [
      "100%|██████████| 7/7 [01:30<00:00, 12.98s/it]"
     ]
    },
    {
     "name": "stdout",
     "output_type": "stream",
     "text": [
      "check_list_ttb ['0', '0', '0', '0', '0', '0', '0']\n"
     ]
    },
    {
     "name": "stderr",
     "output_type": "stream",
     "text": [
      "\n"
     ]
    }
   ],
   "source": [
    "#Check with all bank slip\n",
    "Bank_list = ['baac','bbk','kbank','krungsri','krungthai','memo','scb','ttb']\n",
    "reader = easyocr.Reader(['en'])\n",
    "for i in Bank_list:\n",
    "    list_path = os.listdir(i)\n",
    "    list_path = [os.path.join(i, j) for j in list_path]\n",
    "\n",
    "    check_list = []\n",
    "    img_list = []\n",
    "\n",
    "    for k in tqdm(range(0,7)):\n",
    "        img = cv2.imread(list_path[k])\n",
    "        if img is not None:  # check if image was loaded correctly\n",
    "            # Convert the image to grayscale\n",
    "            gray = cv2.cvtColor(img, cv2.COLOR_BGR2GRAY)\n",
    "\n",
    "            ls = reader.readtext(gray, detail=0, paragraph=False)\n",
    "\n",
    "            if 'ungsr' in ls[0] and sum(1 for w in ls if 'baym' in w.lower()) >= 1:\n",
    "                check_list.append(\"1\")\n",
    "\n",
    "            else:\n",
    "                check_list.append(\"0\")\n",
    "            img_list.append(ls)\n",
    "        else:\n",
    "            print(f\"Error loading image: {list_path[k]}\")\n",
    "    print(f'check_list_{i}' , check_list)\n"
   ]
  }
 ],
 "metadata": {
  "kernelspec": {
   "display_name": "base",
   "language": "python",
   "name": "python3"
  },
  "language_info": {
   "codemirror_mode": {
    "name": "ipython",
    "version": 3
   },
   "file_extension": ".py",
   "mimetype": "text/x-python",
   "name": "python",
   "nbconvert_exporter": "python",
   "pygments_lexer": "ipython3",
   "version": "3.9.12"
  },
  "orig_nbformat": 4
 },
 "nbformat": 4,
 "nbformat_minor": 2
}
