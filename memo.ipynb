{
 "cells": [
  {
   "cell_type": "code",
   "execution_count": null,
   "metadata": {},
   "outputs": [],
   "source": [
    "from tqdm import tqdm\n",
    "import easyocr\n",
    "import os\n",
    "import cv2\n",
    "import matplotlib.pyplot as plt"
   ]
  },
  {
   "cell_type": "code",
   "execution_count": 2,
   "metadata": {},
   "outputs": [
    {
     "data": {
      "text/plain": [
       "['krungsri/LINE_ALBUM_slip_230227_302.jpg',\n",
       " 'krungsri/LINE_ALBUM_slip_230227_33.jpg',\n",
       " 'krungsri/LINE_ALBUM_slip_230227_376.jpg',\n",
       " 'krungsri/LINE_ALBUM_slip_230227_38.jpg',\n",
       " 'krungsri/LINE_ALBUM_slip_230227_386.jpg',\n",
       " 'krungsri/LINE_ALBUM_slip_230227_391.jpg',\n",
       " 'krungsri/LINE_ALBUM_slip_230227_420.jpg',\n",
       " 'krungsri/LINE_ALBUM_slip_230227_80.jpg',\n",
       " 'krungsri/LINE_ALBUM_slip_230227_87.jpg']"
      ]
     },
     "execution_count": 2,
     "metadata": {},
     "output_type": "execute_result"
    }
   ],
   "source": [
    "list_path=os.listdir(r\"memo\")\n",
    "list_path=[\"memo/\"+i for i in list_path]\n",
    "list_path"
   ]
  },
  {
   "cell_type": "code",
   "execution_count": null,
   "metadata": {},
   "outputs": [],
   "source": [
    "img = cv2.imread(list_path[0], 0)\n",
    "\n",
    "# Apply Otsu's thresholding to the image\n",
    "# ret, img = cv2.threshold(img, 0, 255, cv2.THRESH_BINARY + cv2.THRESH_OTSU)\n",
    "\n",
    "# Display the thresholded image using Matplotlib\n",
    "plt.figure(figsize=(10, 10))\n",
    "plt.imshow(img, cmap='gray')\n",
    "\n",
    "# Show the plot\n",
    "plt.show()"
   ]
  },
  {
   "cell_type": "code",
   "execution_count": 3,
   "metadata": {},
   "outputs": [
    {
     "name": "stderr",
     "output_type": "stream",
     "text": [
      "CUDA not available - defaulting to CPU. Note: This module is much faster with a GPU.\n"
     ]
    },
    {
     "data": {
      "text/plain": [
       "['krungsri',\n",
       " '[ouluaniSv',\n",
       " 'Fenibri',\n",
       " 'HMFG',\n",
       " '19 nW. 2566 13.16.23',\n",
       " 'glouai (nbticiai 9 OuH',\n",
       " 'PIYAWUN SOYCH',\n",
       " 'XXX-1-41580-X',\n",
       " 'u.a: sanSau [@Squns',\n",
       " '',\n",
       " 'XXX-3-60946-X',\n",
       " 'jujunu',\n",
       " '760.00 THB',\n",
       " 'AJSSSUIC:U',\n",
       " '0.00 THB',\n",
       " 'Kunjiaujwov',\n",
       " 'BAYM1832347589',\n",
       " '',\n",
       " '',\n",
       " 'dilnucisJvaju',\n",
       " '',\n",
       " '',\n",
       " '',\n",
       " '',\n",
       " '',\n",
       " '',\n",
       " '',\n",
       " '',\n",
       " '',\n",
       " '',\n",
       " '',\n",
       " '',\n",
       " '',\n",
       " '',\n",
       " '',\n",
       " '',\n",
       " '',\n",
       " '',\n",
       " '',\n",
       " '']"
      ]
     },
     "execution_count": 3,
     "metadata": {},
     "output_type": "execute_result"
    }
   ],
   "source": [
    "img = cv2.imread(list_path[0])\n",
    "\n",
    "# Convert the image to grayscale\n",
    "gray = cv2.cvtColor(img, cv2.COLOR_BGR2GRAY)\n",
    "\n",
    "# Initialize the OCR reader\n",
    "reader = easyocr.Reader(['en'])\n",
    "\n",
    "# Perform OCR on the image\n",
    "ls = reader.readtext(gray, detail=0, paragraph=False)\n",
    "ls"
   ]
  },
  {
   "cell_type": "code",
   "execution_count": 5,
   "metadata": {},
   "outputs": [
    {
     "name": "stderr",
     "output_type": "stream",
     "text": [
      "  0%|          | 0/7 [00:00<?, ?it/s]CUDA not available - defaulting to CPU. Note: This module is much faster with a GPU.\n",
      " 14%|█▍        | 1/7 [00:12<01:13, 12.19s/it]CUDA not available - defaulting to CPU. Note: This module is much faster with a GPU.\n",
      " 29%|██▊       | 2/7 [00:21<00:52, 10.55s/it]CUDA not available - defaulting to CPU. Note: This module is much faster with a GPU.\n",
      " 43%|████▎     | 3/7 [00:30<00:38,  9.68s/it]CUDA not available - defaulting to CPU. Note: This module is much faster with a GPU.\n",
      " 57%|█████▋    | 4/7 [00:39<00:28,  9.43s/it]CUDA not available - defaulting to CPU. Note: This module is much faster with a GPU.\n",
      " 71%|███████▏  | 5/7 [00:48<00:18,  9.25s/it]CUDA not available - defaulting to CPU. Note: This module is much faster with a GPU.\n",
      " 86%|████████▌ | 6/7 [00:57<00:09,  9.10s/it]CUDA not available - defaulting to CPU. Note: This module is much faster with a GPU.\n",
      "100%|██████████| 7/7 [01:05<00:00,  9.42s/it]\n"
     ]
    }
   ],
   "source": [
    "#Test the bank slip logical\n",
    "list_path=os.listdir(r\"krungsri\")\n",
    "list_path=[\"krungsri/\"+i for i in list_path]\n",
    "list_path\n",
    "\n",
    "\n",
    " # Length of the pattern to match\n",
    "check_list = []\n",
    "img_list = []\n",
    "for i in tqdm(range(0,9)):\n",
    "    img = cv2.imread(list_path[i])\n",
    "\n",
    "    # Convert the image to grayscale\n",
    "    gray = cv2.cvtColor(img, cv2.COLOR_BGR2GRAY)\n",
    "\n",
    "    # Initialize the OCR reader\n",
    "    reader = easyocr.Reader(['en'])\n",
    "\n",
    "    ls = reader.readtext(gray, detail=0, paragraph=False)\n",
    "\n",
    "    if 'ungsr' in ls[0] and sum(1 for w in ls if 'baym' in w.lower()) >= 1:\n",
    "        check_list.append(\"1\")\n",
    "\n",
    "    else:\n",
    "        check_list.append(\"0\")\n",
    "    img_list.append(ls)\n",
    "\n"
   ]
  },
  {
   "cell_type": "code",
   "execution_count": 10,
   "metadata": {},
   "outputs": [
    {
     "data": {
      "text/plain": [
       "['1', '1', '1', '1', '1', '1', '1', '1', '1']"
      ]
     },
     "execution_count": 10,
     "metadata": {},
     "output_type": "execute_result"
    }
   ],
   "source": [
    "# img_list[7]\n",
    "check_list\n",
    "# len('012045212258790754')"
   ]
  },
  {
   "cell_type": "code",
   "execution_count": 8,
   "metadata": {},
   "outputs": [
    {
     "name": "stderr",
     "output_type": "stream",
     "text": [
      "CUDA not available - defaulting to CPU. Note: This module is much faster with a GPU.\n",
      "100%|██████████| 7/7 [00:41<00:00,  5.92s/it]\n",
      "CUDA not available - defaulting to CPU. Note: This module is much faster with a GPU.\n"
     ]
    },
    {
     "name": "stdout",
     "output_type": "stream",
     "text": [
      "check_list_baac ['0', '0', '0', '0', '0', '0', '0']\n"
     ]
    },
    {
     "name": "stderr",
     "output_type": "stream",
     "text": [
      "  0%|          | 0/7 [00:01<?, ?it/s]\n"
     ]
    },
    {
     "ename": "KeyboardInterrupt",
     "evalue": "",
     "output_type": "error",
     "traceback": [
      "\u001b[1;31m---------------------------------------------------------------------------\u001b[0m",
      "\u001b[1;31mKeyboardInterrupt\u001b[0m                         Traceback (most recent call last)",
      "\u001b[1;32mc:\\Users\\games\\OneDrive\\เดสก์ท็อป\\sample_slip\\krungsri_rules.ipynb Cell 8\u001b[0m in \u001b[0;36m<cell line: 4>\u001b[1;34m()\u001b[0m\n\u001b[0;32m     <a href='vscode-notebook-cell:/c%3A/Users/games/OneDrive/%E0%B9%80%E0%B8%94%E0%B8%AA%E0%B8%81%E0%B9%8C%E0%B8%97%E0%B9%87%E0%B8%AD%E0%B8%9B/sample_slip/krungsri_rules.ipynb#X11sZmlsZQ%3D%3D?line=13'>14</a>\u001b[0m \u001b[39mif\u001b[39;00m img \u001b[39mis\u001b[39;00m \u001b[39mnot\u001b[39;00m \u001b[39mNone\u001b[39;00m:  \u001b[39m# check if image was loaded correctly\u001b[39;00m\n\u001b[0;32m     <a href='vscode-notebook-cell:/c%3A/Users/games/OneDrive/%E0%B9%80%E0%B8%94%E0%B8%AA%E0%B8%81%E0%B9%8C%E0%B8%97%E0%B9%87%E0%B8%AD%E0%B8%9B/sample_slip/krungsri_rules.ipynb#X11sZmlsZQ%3D%3D?line=14'>15</a>\u001b[0m     \u001b[39m# Convert the image to grayscale\u001b[39;00m\n\u001b[0;32m     <a href='vscode-notebook-cell:/c%3A/Users/games/OneDrive/%E0%B9%80%E0%B8%94%E0%B8%AA%E0%B8%81%E0%B9%8C%E0%B8%97%E0%B9%87%E0%B8%AD%E0%B8%9B/sample_slip/krungsri_rules.ipynb#X11sZmlsZQ%3D%3D?line=15'>16</a>\u001b[0m     gray \u001b[39m=\u001b[39m cv2\u001b[39m.\u001b[39mcvtColor(img, cv2\u001b[39m.\u001b[39mCOLOR_BGR2GRAY)\n\u001b[1;32m---> <a href='vscode-notebook-cell:/c%3A/Users/games/OneDrive/%E0%B9%80%E0%B8%94%E0%B8%AA%E0%B8%81%E0%B9%8C%E0%B8%97%E0%B9%87%E0%B8%AD%E0%B8%9B/sample_slip/krungsri_rules.ipynb#X11sZmlsZQ%3D%3D?line=16'>17</a>\u001b[0m     ls \u001b[39m=\u001b[39m reader\u001b[39m.\u001b[39;49mreadtext(gray, detail\u001b[39m=\u001b[39;49m\u001b[39m0\u001b[39;49m, paragraph\u001b[39m=\u001b[39;49m\u001b[39mFalse\u001b[39;49;00m)\n\u001b[0;32m     <a href='vscode-notebook-cell:/c%3A/Users/games/OneDrive/%E0%B9%80%E0%B8%94%E0%B8%AA%E0%B8%81%E0%B9%8C%E0%B8%97%E0%B9%87%E0%B8%AD%E0%B8%9B/sample_slip/krungsri_rules.ipynb#X11sZmlsZQ%3D%3D?line=17'>18</a>\u001b[0m     \u001b[39mif\u001b[39;00m \u001b[39m'\u001b[39m\u001b[39mungsr\u001b[39m\u001b[39m'\u001b[39m \u001b[39min\u001b[39;00m ls[\u001b[39m0\u001b[39m] \u001b[39mand\u001b[39;00m \u001b[39msum\u001b[39m(\u001b[39m1\u001b[39m \u001b[39mfor\u001b[39;00m w \u001b[39min\u001b[39;00m ls \u001b[39mif\u001b[39;00m \u001b[39m'\u001b[39m\u001b[39mbaym\u001b[39m\u001b[39m'\u001b[39m \u001b[39min\u001b[39;00m w\u001b[39m.\u001b[39mlower()) \u001b[39m>\u001b[39m\u001b[39m=\u001b[39m \u001b[39m1\u001b[39m:\n\u001b[0;32m     <a href='vscode-notebook-cell:/c%3A/Users/games/OneDrive/%E0%B9%80%E0%B8%94%E0%B8%AA%E0%B8%81%E0%B9%8C%E0%B8%97%E0%B9%87%E0%B8%AD%E0%B8%9B/sample_slip/krungsri_rules.ipynb#X11sZmlsZQ%3D%3D?line=18'>19</a>\u001b[0m         check_list\u001b[39m.\u001b[39mappend(\u001b[39m\"\u001b[39m\u001b[39m1\u001b[39m\u001b[39m\"\u001b[39m)\n",
      "File \u001b[1;32mc:\\Users\\games\\anaconda3\\lib\\site-packages\\easyocr\\easyocr.py:444\u001b[0m, in \u001b[0;36mReader.readtext\u001b[1;34m(self, image, decoder, beamWidth, batch_size, workers, allowlist, blocklist, detail, rotation_info, paragraph, min_size, contrast_ths, adjust_contrast, filter_ths, text_threshold, low_text, link_threshold, canvas_size, mag_ratio, slope_ths, ycenter_ths, height_ths, width_ths, y_ths, x_ths, add_margin, threshold, bbox_min_score, bbox_min_size, max_candidates, output_format)\u001b[0m\n\u001b[0;32m    438\u001b[0m \u001b[39m'''\u001b[39;00m\n\u001b[0;32m    439\u001b[0m \u001b[39mParameters:\u001b[39;00m\n\u001b[0;32m    440\u001b[0m \u001b[39mimage: file path or numpy-array or a byte stream object\u001b[39;00m\n\u001b[0;32m    441\u001b[0m \u001b[39m'''\u001b[39;00m\n\u001b[0;32m    442\u001b[0m img, img_cv_grey \u001b[39m=\u001b[39m reformat_input(image)\n\u001b[1;32m--> 444\u001b[0m horizontal_list, free_list \u001b[39m=\u001b[39m \u001b[39mself\u001b[39;49m\u001b[39m.\u001b[39;49mdetect(img, \n\u001b[0;32m    445\u001b[0m                                          min_size \u001b[39m=\u001b[39;49m min_size, text_threshold \u001b[39m=\u001b[39;49m text_threshold,\\\n\u001b[0;32m    446\u001b[0m                                          low_text \u001b[39m=\u001b[39;49m low_text, link_threshold \u001b[39m=\u001b[39;49m link_threshold,\\\n\u001b[0;32m    447\u001b[0m                                          canvas_size \u001b[39m=\u001b[39;49m canvas_size, mag_ratio \u001b[39m=\u001b[39;49m mag_ratio,\\\n\u001b[0;32m    448\u001b[0m                                          slope_ths \u001b[39m=\u001b[39;49m slope_ths, ycenter_ths \u001b[39m=\u001b[39;49m ycenter_ths,\\\n\u001b[0;32m    449\u001b[0m                                          height_ths \u001b[39m=\u001b[39;49m height_ths, width_ths\u001b[39m=\u001b[39;49m width_ths,\\\n\u001b[0;32m    450\u001b[0m                                          add_margin \u001b[39m=\u001b[39;49m add_margin, reformat \u001b[39m=\u001b[39;49m \u001b[39mFalse\u001b[39;49;00m,\\\n\u001b[0;32m    451\u001b[0m                                          threshold \u001b[39m=\u001b[39;49m threshold, bbox_min_score \u001b[39m=\u001b[39;49m bbox_min_score,\\\n\u001b[0;32m    452\u001b[0m                                          bbox_min_size \u001b[39m=\u001b[39;49m bbox_min_size, max_candidates \u001b[39m=\u001b[39;49m max_candidates\n\u001b[0;32m    453\u001b[0m                                          )\n\u001b[0;32m    454\u001b[0m \u001b[39m# get the 1st result from hor & free list as self.detect returns a list of depth 3\u001b[39;00m\n\u001b[0;32m    455\u001b[0m horizontal_list, free_list \u001b[39m=\u001b[39m horizontal_list[\u001b[39m0\u001b[39m], free_list[\u001b[39m0\u001b[39m]\n",
      "File \u001b[1;32mc:\\Users\\games\\anaconda3\\lib\\site-packages\\easyocr\\easyocr.py:317\u001b[0m, in \u001b[0;36mReader.detect\u001b[1;34m(self, img, min_size, text_threshold, low_text, link_threshold, canvas_size, mag_ratio, slope_ths, ycenter_ths, height_ths, width_ths, add_margin, reformat, optimal_num_chars, threshold, bbox_min_score, bbox_min_size, max_candidates)\u001b[0m\n\u001b[0;32m    314\u001b[0m \u001b[39mif\u001b[39;00m reformat:\n\u001b[0;32m    315\u001b[0m     img, img_cv_grey \u001b[39m=\u001b[39m reformat_input(img)\n\u001b[1;32m--> 317\u001b[0m text_box_list \u001b[39m=\u001b[39m \u001b[39mself\u001b[39;49m\u001b[39m.\u001b[39;49mget_textbox(\u001b[39mself\u001b[39;49m\u001b[39m.\u001b[39;49mdetector, \n\u001b[0;32m    318\u001b[0m                             img, \n\u001b[0;32m    319\u001b[0m                             canvas_size \u001b[39m=\u001b[39;49m canvas_size, \n\u001b[0;32m    320\u001b[0m                             mag_ratio \u001b[39m=\u001b[39;49m mag_ratio,\n\u001b[0;32m    321\u001b[0m                             text_threshold \u001b[39m=\u001b[39;49m text_threshold, \n\u001b[0;32m    322\u001b[0m                             link_threshold \u001b[39m=\u001b[39;49m link_threshold, \n\u001b[0;32m    323\u001b[0m                             low_text \u001b[39m=\u001b[39;49m low_text,\n\u001b[0;32m    324\u001b[0m                             poly \u001b[39m=\u001b[39;49m \u001b[39mFalse\u001b[39;49;00m, \n\u001b[0;32m    325\u001b[0m                             device \u001b[39m=\u001b[39;49m \u001b[39mself\u001b[39;49m\u001b[39m.\u001b[39;49mdevice, \n\u001b[0;32m    326\u001b[0m                             optimal_num_chars \u001b[39m=\u001b[39;49m optimal_num_chars,\n\u001b[0;32m    327\u001b[0m                             threshold \u001b[39m=\u001b[39;49m threshold, \n\u001b[0;32m    328\u001b[0m                             bbox_min_score \u001b[39m=\u001b[39;49m bbox_min_score, \n\u001b[0;32m    329\u001b[0m                             bbox_min_size \u001b[39m=\u001b[39;49m bbox_min_size, \n\u001b[0;32m    330\u001b[0m                             max_candidates \u001b[39m=\u001b[39;49m max_candidates,\n\u001b[0;32m    331\u001b[0m                             )\n\u001b[0;32m    333\u001b[0m horizontal_list_agg, free_list_agg \u001b[39m=\u001b[39m [], []\n\u001b[0;32m    334\u001b[0m \u001b[39mfor\u001b[39;00m text_box \u001b[39min\u001b[39;00m text_box_list:\n",
      "File \u001b[1;32mc:\\Users\\games\\anaconda3\\lib\\site-packages\\easyocr\\detection.py:95\u001b[0m, in \u001b[0;36mget_textbox\u001b[1;34m(detector, image, canvas_size, mag_ratio, text_threshold, link_threshold, low_text, poly, device, optimal_num_chars, **kwargs)\u001b[0m\n\u001b[0;32m     93\u001b[0m result \u001b[39m=\u001b[39m []\n\u001b[0;32m     94\u001b[0m estimate_num_chars \u001b[39m=\u001b[39m optimal_num_chars \u001b[39mis\u001b[39;00m \u001b[39mnot\u001b[39;00m \u001b[39mNone\u001b[39;00m\n\u001b[1;32m---> 95\u001b[0m bboxes_list, polys_list \u001b[39m=\u001b[39m test_net(canvas_size, mag_ratio, detector,\n\u001b[0;32m     96\u001b[0m                                    image, text_threshold,\n\u001b[0;32m     97\u001b[0m                                    link_threshold, low_text, poly,\n\u001b[0;32m     98\u001b[0m                                    device, estimate_num_chars)\n\u001b[0;32m     99\u001b[0m \u001b[39mif\u001b[39;00m estimate_num_chars:\n\u001b[0;32m    100\u001b[0m     polys_list \u001b[39m=\u001b[39m [[p \u001b[39mfor\u001b[39;00m p, _ \u001b[39min\u001b[39;00m \u001b[39msorted\u001b[39m(polys, key\u001b[39m=\u001b[39m\u001b[39mlambda\u001b[39;00m x: \u001b[39mabs\u001b[39m(optimal_num_chars \u001b[39m-\u001b[39m x[\u001b[39m1\u001b[39m]))]\n\u001b[0;32m    101\u001b[0m                   \u001b[39mfor\u001b[39;00m polys \u001b[39min\u001b[39;00m polys_list]\n",
      "File \u001b[1;32mc:\\Users\\games\\anaconda3\\lib\\site-packages\\easyocr\\detection.py:46\u001b[0m, in \u001b[0;36mtest_net\u001b[1;34m(canvas_size, mag_ratio, net, image, text_threshold, link_threshold, low_text, poly, device, estimate_num_chars)\u001b[0m\n\u001b[0;32m     44\u001b[0m \u001b[39m# forward pass\u001b[39;00m\n\u001b[0;32m     45\u001b[0m \u001b[39mwith\u001b[39;00m torch\u001b[39m.\u001b[39mno_grad():\n\u001b[1;32m---> 46\u001b[0m     y, feature \u001b[39m=\u001b[39m net(x)\n\u001b[0;32m     48\u001b[0m boxes_list, polys_list \u001b[39m=\u001b[39m [], []\n\u001b[0;32m     49\u001b[0m \u001b[39mfor\u001b[39;00m out \u001b[39min\u001b[39;00m y:\n\u001b[0;32m     50\u001b[0m     \u001b[39m# make score and link map\u001b[39;00m\n",
      "File \u001b[1;32mc:\\Users\\games\\anaconda3\\lib\\site-packages\\torch\\nn\\modules\\module.py:1501\u001b[0m, in \u001b[0;36mModule._call_impl\u001b[1;34m(self, *args, **kwargs)\u001b[0m\n\u001b[0;32m   1496\u001b[0m \u001b[39m# If we don't have any hooks, we want to skip the rest of the logic in\u001b[39;00m\n\u001b[0;32m   1497\u001b[0m \u001b[39m# this function, and just call forward.\u001b[39;00m\n\u001b[0;32m   1498\u001b[0m \u001b[39mif\u001b[39;00m \u001b[39mnot\u001b[39;00m (\u001b[39mself\u001b[39m\u001b[39m.\u001b[39m_backward_hooks \u001b[39mor\u001b[39;00m \u001b[39mself\u001b[39m\u001b[39m.\u001b[39m_backward_pre_hooks \u001b[39mor\u001b[39;00m \u001b[39mself\u001b[39m\u001b[39m.\u001b[39m_forward_hooks \u001b[39mor\u001b[39;00m \u001b[39mself\u001b[39m\u001b[39m.\u001b[39m_forward_pre_hooks\n\u001b[0;32m   1499\u001b[0m         \u001b[39mor\u001b[39;00m _global_backward_pre_hooks \u001b[39mor\u001b[39;00m _global_backward_hooks\n\u001b[0;32m   1500\u001b[0m         \u001b[39mor\u001b[39;00m _global_forward_hooks \u001b[39mor\u001b[39;00m _global_forward_pre_hooks):\n\u001b[1;32m-> 1501\u001b[0m     \u001b[39mreturn\u001b[39;00m forward_call(\u001b[39m*\u001b[39margs, \u001b[39m*\u001b[39m\u001b[39m*\u001b[39mkwargs)\n\u001b[0;32m   1502\u001b[0m \u001b[39m# Do not call functions when jit is used\u001b[39;00m\n\u001b[0;32m   1503\u001b[0m full_backward_hooks, non_full_backward_hooks \u001b[39m=\u001b[39m [], []\n",
      "File \u001b[1;32mc:\\Users\\games\\anaconda3\\lib\\site-packages\\easyocr\\craft.py:60\u001b[0m, in \u001b[0;36mCRAFT.forward\u001b[1;34m(self, x)\u001b[0m\n\u001b[0;32m     58\u001b[0m \u001b[39mdef\u001b[39;00m \u001b[39mforward\u001b[39m(\u001b[39mself\u001b[39m, x):\n\u001b[0;32m     59\u001b[0m     \u001b[39m\"\"\" Base network \"\"\"\u001b[39;00m\n\u001b[1;32m---> 60\u001b[0m     sources \u001b[39m=\u001b[39m \u001b[39mself\u001b[39;49m\u001b[39m.\u001b[39;49mbasenet(x)\n\u001b[0;32m     62\u001b[0m     \u001b[39m\"\"\" U network \"\"\"\u001b[39;00m\n\u001b[0;32m     63\u001b[0m     y \u001b[39m=\u001b[39m torch\u001b[39m.\u001b[39mcat([sources[\u001b[39m0\u001b[39m], sources[\u001b[39m1\u001b[39m]], dim\u001b[39m=\u001b[39m\u001b[39m1\u001b[39m)\n",
      "File \u001b[1;32mc:\\Users\\games\\anaconda3\\lib\\site-packages\\torch\\nn\\modules\\module.py:1501\u001b[0m, in \u001b[0;36mModule._call_impl\u001b[1;34m(self, *args, **kwargs)\u001b[0m\n\u001b[0;32m   1496\u001b[0m \u001b[39m# If we don't have any hooks, we want to skip the rest of the logic in\u001b[39;00m\n\u001b[0;32m   1497\u001b[0m \u001b[39m# this function, and just call forward.\u001b[39;00m\n\u001b[0;32m   1498\u001b[0m \u001b[39mif\u001b[39;00m \u001b[39mnot\u001b[39;00m (\u001b[39mself\u001b[39m\u001b[39m.\u001b[39m_backward_hooks \u001b[39mor\u001b[39;00m \u001b[39mself\u001b[39m\u001b[39m.\u001b[39m_backward_pre_hooks \u001b[39mor\u001b[39;00m \u001b[39mself\u001b[39m\u001b[39m.\u001b[39m_forward_hooks \u001b[39mor\u001b[39;00m \u001b[39mself\u001b[39m\u001b[39m.\u001b[39m_forward_pre_hooks\n\u001b[0;32m   1499\u001b[0m         \u001b[39mor\u001b[39;00m _global_backward_pre_hooks \u001b[39mor\u001b[39;00m _global_backward_hooks\n\u001b[0;32m   1500\u001b[0m         \u001b[39mor\u001b[39;00m _global_forward_hooks \u001b[39mor\u001b[39;00m _global_forward_pre_hooks):\n\u001b[1;32m-> 1501\u001b[0m     \u001b[39mreturn\u001b[39;00m forward_call(\u001b[39m*\u001b[39margs, \u001b[39m*\u001b[39m\u001b[39m*\u001b[39mkwargs)\n\u001b[0;32m   1502\u001b[0m \u001b[39m# Do not call functions when jit is used\u001b[39;00m\n\u001b[0;32m   1503\u001b[0m full_backward_hooks, non_full_backward_hooks \u001b[39m=\u001b[39m [], []\n",
      "File \u001b[1;32mc:\\Users\\games\\anaconda3\\lib\\site-packages\\easyocr\\model\\modules.py:68\u001b[0m, in \u001b[0;36mvgg16_bn.forward\u001b[1;34m(self, X)\u001b[0m\n\u001b[0;32m     67\u001b[0m \u001b[39mdef\u001b[39;00m \u001b[39mforward\u001b[39m(\u001b[39mself\u001b[39m, X):\n\u001b[1;32m---> 68\u001b[0m     h \u001b[39m=\u001b[39m \u001b[39mself\u001b[39;49m\u001b[39m.\u001b[39;49mslice1(X)\n\u001b[0;32m     69\u001b[0m     h_relu2_2 \u001b[39m=\u001b[39m h\n\u001b[0;32m     70\u001b[0m     h \u001b[39m=\u001b[39m \u001b[39mself\u001b[39m\u001b[39m.\u001b[39mslice2(h)\n",
      "File \u001b[1;32mc:\\Users\\games\\anaconda3\\lib\\site-packages\\torch\\nn\\modules\\module.py:1501\u001b[0m, in \u001b[0;36mModule._call_impl\u001b[1;34m(self, *args, **kwargs)\u001b[0m\n\u001b[0;32m   1496\u001b[0m \u001b[39m# If we don't have any hooks, we want to skip the rest of the logic in\u001b[39;00m\n\u001b[0;32m   1497\u001b[0m \u001b[39m# this function, and just call forward.\u001b[39;00m\n\u001b[0;32m   1498\u001b[0m \u001b[39mif\u001b[39;00m \u001b[39mnot\u001b[39;00m (\u001b[39mself\u001b[39m\u001b[39m.\u001b[39m_backward_hooks \u001b[39mor\u001b[39;00m \u001b[39mself\u001b[39m\u001b[39m.\u001b[39m_backward_pre_hooks \u001b[39mor\u001b[39;00m \u001b[39mself\u001b[39m\u001b[39m.\u001b[39m_forward_hooks \u001b[39mor\u001b[39;00m \u001b[39mself\u001b[39m\u001b[39m.\u001b[39m_forward_pre_hooks\n\u001b[0;32m   1499\u001b[0m         \u001b[39mor\u001b[39;00m _global_backward_pre_hooks \u001b[39mor\u001b[39;00m _global_backward_hooks\n\u001b[0;32m   1500\u001b[0m         \u001b[39mor\u001b[39;00m _global_forward_hooks \u001b[39mor\u001b[39;00m _global_forward_pre_hooks):\n\u001b[1;32m-> 1501\u001b[0m     \u001b[39mreturn\u001b[39;00m forward_call(\u001b[39m*\u001b[39margs, \u001b[39m*\u001b[39m\u001b[39m*\u001b[39mkwargs)\n\u001b[0;32m   1502\u001b[0m \u001b[39m# Do not call functions when jit is used\u001b[39;00m\n\u001b[0;32m   1503\u001b[0m full_backward_hooks, non_full_backward_hooks \u001b[39m=\u001b[39m [], []\n",
      "File \u001b[1;32mc:\\Users\\games\\anaconda3\\lib\\site-packages\\torch\\nn\\modules\\container.py:217\u001b[0m, in \u001b[0;36mSequential.forward\u001b[1;34m(self, input)\u001b[0m\n\u001b[0;32m    215\u001b[0m \u001b[39mdef\u001b[39;00m \u001b[39mforward\u001b[39m(\u001b[39mself\u001b[39m, \u001b[39minput\u001b[39m):\n\u001b[0;32m    216\u001b[0m     \u001b[39mfor\u001b[39;00m module \u001b[39min\u001b[39;00m \u001b[39mself\u001b[39m:\n\u001b[1;32m--> 217\u001b[0m         \u001b[39minput\u001b[39m \u001b[39m=\u001b[39m module(\u001b[39minput\u001b[39;49m)\n\u001b[0;32m    218\u001b[0m     \u001b[39mreturn\u001b[39;00m \u001b[39minput\u001b[39m\n",
      "File \u001b[1;32mc:\\Users\\games\\anaconda3\\lib\\site-packages\\torch\\nn\\modules\\module.py:1501\u001b[0m, in \u001b[0;36mModule._call_impl\u001b[1;34m(self, *args, **kwargs)\u001b[0m\n\u001b[0;32m   1496\u001b[0m \u001b[39m# If we don't have any hooks, we want to skip the rest of the logic in\u001b[39;00m\n\u001b[0;32m   1497\u001b[0m \u001b[39m# this function, and just call forward.\u001b[39;00m\n\u001b[0;32m   1498\u001b[0m \u001b[39mif\u001b[39;00m \u001b[39mnot\u001b[39;00m (\u001b[39mself\u001b[39m\u001b[39m.\u001b[39m_backward_hooks \u001b[39mor\u001b[39;00m \u001b[39mself\u001b[39m\u001b[39m.\u001b[39m_backward_pre_hooks \u001b[39mor\u001b[39;00m \u001b[39mself\u001b[39m\u001b[39m.\u001b[39m_forward_hooks \u001b[39mor\u001b[39;00m \u001b[39mself\u001b[39m\u001b[39m.\u001b[39m_forward_pre_hooks\n\u001b[0;32m   1499\u001b[0m         \u001b[39mor\u001b[39;00m _global_backward_pre_hooks \u001b[39mor\u001b[39;00m _global_backward_hooks\n\u001b[0;32m   1500\u001b[0m         \u001b[39mor\u001b[39;00m _global_forward_hooks \u001b[39mor\u001b[39;00m _global_forward_pre_hooks):\n\u001b[1;32m-> 1501\u001b[0m     \u001b[39mreturn\u001b[39;00m forward_call(\u001b[39m*\u001b[39margs, \u001b[39m*\u001b[39m\u001b[39m*\u001b[39mkwargs)\n\u001b[0;32m   1502\u001b[0m \u001b[39m# Do not call functions when jit is used\u001b[39;00m\n\u001b[0;32m   1503\u001b[0m full_backward_hooks, non_full_backward_hooks \u001b[39m=\u001b[39m [], []\n",
      "File \u001b[1;32mc:\\Users\\games\\anaconda3\\lib\\site-packages\\torch\\nn\\modules\\conv.py:463\u001b[0m, in \u001b[0;36mConv2d.forward\u001b[1;34m(self, input)\u001b[0m\n\u001b[0;32m    462\u001b[0m \u001b[39mdef\u001b[39;00m \u001b[39mforward\u001b[39m(\u001b[39mself\u001b[39m, \u001b[39minput\u001b[39m: Tensor) \u001b[39m-\u001b[39m\u001b[39m>\u001b[39m Tensor:\n\u001b[1;32m--> 463\u001b[0m     \u001b[39mreturn\u001b[39;00m \u001b[39mself\u001b[39;49m\u001b[39m.\u001b[39;49m_conv_forward(\u001b[39minput\u001b[39;49m, \u001b[39mself\u001b[39;49m\u001b[39m.\u001b[39;49mweight, \u001b[39mself\u001b[39;49m\u001b[39m.\u001b[39;49mbias)\n",
      "File \u001b[1;32mc:\\Users\\games\\anaconda3\\lib\\site-packages\\torch\\nn\\modules\\conv.py:459\u001b[0m, in \u001b[0;36mConv2d._conv_forward\u001b[1;34m(self, input, weight, bias)\u001b[0m\n\u001b[0;32m    455\u001b[0m \u001b[39mif\u001b[39;00m \u001b[39mself\u001b[39m\u001b[39m.\u001b[39mpadding_mode \u001b[39m!=\u001b[39m \u001b[39m'\u001b[39m\u001b[39mzeros\u001b[39m\u001b[39m'\u001b[39m:\n\u001b[0;32m    456\u001b[0m     \u001b[39mreturn\u001b[39;00m F\u001b[39m.\u001b[39mconv2d(F\u001b[39m.\u001b[39mpad(\u001b[39minput\u001b[39m, \u001b[39mself\u001b[39m\u001b[39m.\u001b[39m_reversed_padding_repeated_twice, mode\u001b[39m=\u001b[39m\u001b[39mself\u001b[39m\u001b[39m.\u001b[39mpadding_mode),\n\u001b[0;32m    457\u001b[0m                     weight, bias, \u001b[39mself\u001b[39m\u001b[39m.\u001b[39mstride,\n\u001b[0;32m    458\u001b[0m                     _pair(\u001b[39m0\u001b[39m), \u001b[39mself\u001b[39m\u001b[39m.\u001b[39mdilation, \u001b[39mself\u001b[39m\u001b[39m.\u001b[39mgroups)\n\u001b[1;32m--> 459\u001b[0m \u001b[39mreturn\u001b[39;00m F\u001b[39m.\u001b[39;49mconv2d(\u001b[39minput\u001b[39;49m, weight, bias, \u001b[39mself\u001b[39;49m\u001b[39m.\u001b[39;49mstride,\n\u001b[0;32m    460\u001b[0m                 \u001b[39mself\u001b[39;49m\u001b[39m.\u001b[39;49mpadding, \u001b[39mself\u001b[39;49m\u001b[39m.\u001b[39;49mdilation, \u001b[39mself\u001b[39;49m\u001b[39m.\u001b[39;49mgroups)\n",
      "\u001b[1;31mKeyboardInterrupt\u001b[0m: "
     ]
    }
   ],
   "source": [
    "#Check with all bank slip\n",
    "Bank_list = ['baac','bbk','kbank','krungsri','krungthai','memo','scb','ttb']\n",
    "\n",
    "for i in Bank_list:\n",
    "    list_path = os.listdir(i)\n",
    "    list_path = [os.path.join(i, j) for j in list_path]\n",
    "    reader = easyocr.Reader(['en'])\n",
    "\n",
    "    check_list = []\n",
    "    img_list = []\n",
    "\n",
    "    for k in tqdm(range(0,7)):\n",
    "        img = cv2.imread(list_path[k])\n",
    "        if img is not None:  # check if image was loaded correctly\n",
    "            # Convert the image to grayscale\n",
    "            gray = cv2.cvtColor(img, cv2.COLOR_BGR2GRAY)\n",
    "            ls = reader.readtext(gray, detail=0, paragraph=False)\n",
    "            if 'ungsr' in ls[0] and sum(1 for w in ls if 'baym' in w.lower()) >= 1:\n",
    "                check_list.append(\"1\")\n",
    "            else:\n",
    "                check_list.append(\"0\")\n",
    "            img_list.append(ls)\n",
    "        else:\n",
    "            print(f\"Error loading image: {list_path[k]}\")\n",
    "    print(f'check_list_{i}' , check_list)\n"
   ]
  }
 ],
 "metadata": {
  "kernelspec": {
   "display_name": "base",
   "language": "python",
   "name": "python3"
  },
  "language_info": {
   "codemirror_mode": {
    "name": "ipython",
    "version": 3
   },
   "file_extension": ".py",
   "mimetype": "text/x-python",
   "name": "python",
   "nbconvert_exporter": "python",
   "pygments_lexer": "ipython3",
   "version": "3.9.12"
  },
  "orig_nbformat": 4
 },
 "nbformat": 4,
 "nbformat_minor": 2
}
